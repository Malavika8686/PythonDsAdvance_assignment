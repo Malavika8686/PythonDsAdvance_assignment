{
 "cells": [
  {
   "cell_type": "code",
   "execution_count": 3,
   "id": "472236e5-de42-4ca3-aae8-c974ab4ec9e4",
   "metadata": {},
   "outputs": [
    {
     "name": "stdin",
     "output_type": "stream",
     "text": [
      "Enter a string: malavika\n"
     ]
    },
    {
     "name": "stdout",
     "output_type": "stream",
     "text": [
      "String before reversing: malavika \n",
      "String after reversing: akivalam \n"
     ]
    }
   ],
   "source": [
    "#1 Write a code to reverse  string\n",
    "\n",
    "my_string=input(\"Enter a string:\")\n",
    "print(f\"String before reversing: {my_string} \")\n",
    "my_rev_string=my_string[::-1]\n",
    "print(f\"String after reversing: {my_rev_string} \")\n"
   ]
  },
  {
   "cell_type": "code",
   "execution_count": 1,
   "id": "9f0cfdb2-bdec-47e4-9b7f-906f6d39796b",
   "metadata": {},
   "outputs": [
    {
     "name": "stdin",
     "output_type": "stream",
     "text": [
      "Enter a string malavika\n"
     ]
    },
    {
     "name": "stdout",
     "output_type": "stream",
     "text": [
      "The number of vowels in the given string: 4\n"
     ]
    }
   ],
   "source": [
    "#2 Write a code to count the number of vowels in a string\n",
    "\n",
    "my_string1=input(\"Enter a string\")\n",
    "vowels=\"aeiouAEIOU\"\n",
    "count=0\n",
    "#for i in my_string1:\n",
    "#    if i in vowels:\n",
    "#        count+=1\n",
    "#print(count)\n",
    "\n",
    "#simplified version\n",
    "count=sum(my_string1.count(vowel) for vowel in vowels)\n",
    "print(f\"The number of vowels in the given string: {count}\")\n",
    "\n",
    "\n",
    "\n",
    "\n",
    "        "
   ]
  },
  {
   "cell_type": "code",
   "execution_count": 2,
   "id": "1121ef4a-e488-468c-a50e-25bb13e6891d",
   "metadata": {},
   "outputs": [
    {
     "name": "stdin",
     "output_type": "stream",
     "text": [
      "Enter a string malayalam\n"
     ]
    },
    {
     "name": "stdout",
     "output_type": "stream",
     "text": [
      "The given string \"malayalam\" is a palindrome\n"
     ]
    }
   ],
   "source": [
    "#3 Write a code to check if given string is a palindrome or not?\n",
    "\n",
    "my_string2=input(\"Enter a string\")\n",
    "my_revstring=my_string2[::-1]\n",
    "if list(my_string2)==list(my_revstring):\n",
    "    print(f\"The given string \\\"{my_string2}\\\" is a palindrome\")\n",
    "\n"
   ]
  },
  {
   "cell_type": "code",
   "execution_count": 1,
   "id": "8c397cbb-0461-4e26-ad19-b6f218913711",
   "metadata": {},
   "outputs": [
    {
     "name": "stdin",
     "output_type": "stream",
     "text": [
      "Enter first string Eleven plus two\n",
      "Enter second string Twelve plus one\n"
     ]
    },
    {
     "name": "stdout",
     "output_type": "stream",
     "text": [
      "They are anagrams\n"
     ]
    }
   ],
   "source": [
    "#4 Write a code to check if two given strings are anagrams of each other?\n",
    "\n",
    "my_first_string=input(\"Enter first string\")\n",
    "my_second_string=input(\"Enter second string\")\n",
    "if sorted(my_first_string.lower())==sorted(my_second_string.lower()):\n",
    "    print(\"They are anagrams\")\n",
    "else:\n",
    "    print(\"They are not anagrams\")\n"
   ]
  },
  {
   "cell_type": "code",
   "execution_count": 5,
   "id": "b0daed0c-e7f0-410a-b0e7-d3b8e7eda4c1",
   "metadata": {},
   "outputs": [
    {
     "name": "stdin",
     "output_type": "stream",
     "text": [
      "Enter a string: alice loves mangoes and mangoes juice\n",
      "Enter a substring mangoes\n"
     ]
    },
    {
     "name": "stdout",
     "output_type": "stream",
     "text": [
      "12 24 "
     ]
    }
   ],
   "source": [
    "#5 Write a code to find all occurrences of a given substring within another string?\n",
    "\n",
    "string1=input(\"Enter a string:\")\n",
    "substring=input(\"Enter a substring\")\n",
    "flag=False\n",
    "for i in range(len(string1)):\n",
    "    if(string1[i:i+len(substring)]==substring):\n",
    "        print(i,end=\" \")\n",
    "        flag=True\n",
    "if (flag==False):\n",
    "    print(\"The substring is not present in the given string\")\n",
    "        \n",
    "        \n",
    "\n"
   ]
  },
  {
   "cell_type": "code",
   "execution_count": 3,
   "id": "bb777d8e-e28f-4069-834e-989f0d2f2048",
   "metadata": {},
   "outputs": [
    {
     "name": "stdin",
     "output_type": "stream",
     "text": [
      "Enter a string: mmmaaalllaaavvviiikkkaaa\n"
     ]
    },
    {
     "name": "stdout",
     "output_type": "stream",
     "text": [
      "m3a3l3a3v3i3k3a3\n"
     ]
    }
   ],
   "source": [
    "#6 Write a code to perform basic string compression using the count of repeated characters\n",
    "\n",
    "s=input(\"Enter a string:\")\n",
    "result = \"\"\n",
    "cnt = 1\n",
    "for i in range(1, len(s)):\n",
    "    if s[i - 1] == s[i]:\n",
    "         cnt += 1\n",
    "    else:\n",
    "         result = result + s[i - 1]\n",
    "         if cnt > 1:\n",
    "            result += str(cnt)\n",
    "         cnt = 1\n",
    "result = result + s[-1]\n",
    "if cnt > 1:\n",
    "    result += str(cnt)\n",
    "print(result)"
   ]
  },
  {
   "cell_type": "code",
   "execution_count": 1,
   "id": "6d321328-f2b1-4b49-af0f-bacb1e8c0b69",
   "metadata": {},
   "outputs": [
    {
     "name": "stdin",
     "output_type": "stream",
     "text": [
      "Enter a string malavika\n"
     ]
    },
    {
     "name": "stdout",
     "output_type": "stream",
     "text": [
      " The given string \"malavika\" does not have all unique characters\n"
     ]
    }
   ],
   "source": [
    "#7 Write a code to determine if a string has all unique characters?\n",
    "\n",
    "string3=input(\"Enter a string\")\n",
    "# If at any time we encounter same characters\n",
    "\n",
    "flag=1\n",
    "for i in range(len(string3)):\n",
    "    for j in range(i + 1,len(string3)): \n",
    "        if(string3[i] == string3[j]):\n",
    "            flag=0\n",
    "if flag==1:\n",
    "     print(f\" The given string \\\"{string3}\\\" has all unique characters\")\n",
    "              \n",
    "else:\n",
    "    print(f\" The given string \\\"{string3}\\\" does not have all unique characters\")"
   ]
  },
  {
   "cell_type": "code",
   "execution_count": 1,
   "id": "cd2254d9-d3a2-4cc1-af0d-c814bc5f73bf",
   "metadata": {},
   "outputs": [
    {
     "name": "stdin",
     "output_type": "stream",
     "text": [
      "Enter a string malavika\n"
     ]
    },
    {
     "name": "stdout",
     "output_type": "stream",
     "text": [
      "The given string is malavika\n",
      "uppercase string is MALAVIKA\n",
      "lowercase string is malavika\n"
     ]
    }
   ],
   "source": [
    "#8 Write a code to convert a given string to uppercase or lowercase\n",
    "\n",
    "string4=input(\"Enter a string\")\n",
    "stringup=string4.upper()\n",
    "stringlower=string4.lower()\n",
    "print(f\"The given string is {string4}\")\n",
    "print(f\"uppercase string is {stringup}\")\n",
    "print(f\"lowercase string is {stringlower}\")\n"
   ]
  },
  {
   "cell_type": "code",
   "execution_count": 4,
   "id": "8ebc597f-9d57-46f6-bb5e-baba83ce038b",
   "metadata": {},
   "outputs": [
    {
     "name": "stdin",
     "output_type": "stream",
     "text": [
      "Enter a string: Python is a programming language\n"
     ]
    },
    {
     "name": "stdout",
     "output_type": "stream",
     "text": [
      "The no of words in the given string are: 5\n"
     ]
    }
   ],
   "source": [
    "#9 Write a code to count the number of words in a string\n",
    "\n",
    "string=input(\"Enter a string:\")\n",
    "string.strip()\n",
    "list1=string.split(\" \")\n",
    "x=len(list1)\n",
    "print(f\"The no of words in the given string are: {x}\")\n",
    "\n"
   ]
  },
  {
   "cell_type": "code",
   "execution_count": 6,
   "id": "9f7b7f0f-b35d-4494-9cb5-804c5998c508",
   "metadata": {},
   "outputs": [
    {
     "name": "stdin",
     "output_type": "stream",
     "text": [
      "Enter a string red\n",
      "Enter another string apple\n"
     ]
    },
    {
     "name": "stdout",
     "output_type": "stream",
     "text": [
      "redapple\n"
     ]
    }
   ],
   "source": [
    "#10 Write a code to concatenate two strings without using the + operator\n",
    "\n",
    "#using th f string\n",
    "string1=input(\"Enter a string\")\n",
    "string2=input(\"Enter another string\")\n",
    "string3=f\"{string1}{string2}\"\n",
    "print(string3)"
   ]
  },
  {
   "cell_type": "code",
   "execution_count": 12,
   "id": "c9c48749-cb9e-41d8-a2b2-bda79b949ff5",
   "metadata": {},
   "outputs": [
    {
     "name": "stdin",
     "output_type": "stream",
     "text": [
      "Enter the length of the list 4\n",
      "Enter the 0 element a\n",
      "Enter the 1 element a\n",
      "Enter the 2 element b\n",
      "Enter the 3 element a\n"
     ]
    },
    {
     "name": "stdout",
     "output_type": "stream",
     "text": [
      "['a', 'a', 'b', 'a']\n"
     ]
    },
    {
     "name": "stdin",
     "output_type": "stream",
     "text": [
      "Enter the specific element a\n"
     ]
    },
    {
     "name": "stdout",
     "output_type": "stream",
     "text": [
      "The new list is ['b']\n"
     ]
    }
   ],
   "source": [
    "#11 Write  a code to remove all occurrences of a specific element from a list\n",
    "\n",
    "list1=[]\n",
    "length=int(input(\"Enter the length of the list\"))\n",
    "for i in range(length):\n",
    "    a=input(f\"Enter the {i} element\")\n",
    "    list1.append(a)\n",
    "print(list1)\n",
    "s=input(\"Enter the specific element\")\n",
    "while s in list1:\n",
    "   list1.remove(s)\n",
    "print(f\"The new list is {list1}\")\n",
    "\n",
    "    \n",
    "    "
   ]
  },
  {
   "cell_type": "code",
   "execution_count": 4,
   "id": "bc54b74d-bd6a-4e5a-8d99-c8c36b130acb",
   "metadata": {},
   "outputs": [
    {
     "name": "stdin",
     "output_type": "stream",
     "text": [
      "Enter the length of the list 4\n",
      "Enter the 0 element 3\n",
      "Enter the 1 element 24\n",
      "Enter the 2 element 5\n",
      "Enter the 3 element 6\n"
     ]
    },
    {
     "name": "stdout",
     "output_type": "stream",
     "text": [
      "[3, 5, 6, 24]\n",
      "The second largest element is 6\n"
     ]
    }
   ],
   "source": [
    "## 12  Implement a code to find the second largest number in a given list of integers\n",
    "\n",
    "list1=[]\n",
    "length=int(input(\"Enter the length of the list\"))\n",
    "for i in range(length):\n",
    "    a=int(input(f\"Enter the {i} element\"))\n",
    "    list1.append(a)\n",
    "\n",
    "list1.sort()\n",
    "print(list1)\n",
    "print(f\"The second largest element is {list1[-2]}\")\n"
   ]
  },
  {
   "cell_type": "code",
   "execution_count": 3,
   "id": "8731c441-689c-4a8e-a055-46137098026b",
   "metadata": {},
   "outputs": [
    {
     "name": "stdin",
     "output_type": "stream",
     "text": [
      "Enter the length of the list 10\n",
      "Enter the 0 element 8\n",
      "Enter the 1 element 8\n",
      "Enter the 2 element 8\n",
      "Enter the 3 element 8\n",
      "Enter the 4 element 8\n",
      "Enter the 5 element 8\n",
      "Enter the 6 element 8\n",
      "Enter the 7 element 8\n",
      "Enter the 8 element 8\n",
      "Enter the 9 element 8\n"
     ]
    },
    {
     "name": "stdout",
     "output_type": "stream",
     "text": [
      "dict with count is {8: 10}\n"
     ]
    }
   ],
   "source": [
    "## 13 Create a code to count the occurrences of each element in a list and return a dictionary with elements as\n",
    "#keys and their count as values\n",
    "\n",
    "list1=[]\n",
    "length=int(input(\"Enter the length of the list\"))\n",
    "for i in range(length):\n",
    "    a=int(input(f\"Enter the {i} element\"))\n",
    "    list1.append(a)\n",
    "count_dict={}\n",
    "for i in list1:\n",
    "    if i in count_dict.keys():\n",
    "        count_dict[i] += 1\n",
    "    else:\n",
    "        count_dict[i]=1\n",
    "print(f\"dict with count is {count_dict}\")\n"
   ]
  },
  {
   "cell_type": "code",
   "execution_count": 6,
   "id": "4cf87ab3-c31a-4862-aa08-6aa917563f8e",
   "metadata": {},
   "outputs": [
    {
     "name": "stdin",
     "output_type": "stream",
     "text": [
      "Enter a string malavika\n"
     ]
    },
    {
     "name": "stdout",
     "output_type": "stream",
     "text": [
      "The reversed string is akivalam\n"
     ]
    }
   ],
   "source": [
    "#14 Write a code to reverse a list in-place without using any built-in reverse function\n",
    "\n",
    "string=input(\"Enter a string\")\n",
    "string2=\"\"\n",
    "for i in range(len(string)):\n",
    "    string2 += string[len(string)-1-i]\n",
    "print(f\"The reversed string is {string2}\")"
   ]
  },
  {
   "cell_type": "code",
   "execution_count": 1,
   "id": "54904212-797b-4be0-80c6-1e2dfaeebfb9",
   "metadata": {},
   "outputs": [
    {
     "name": "stdin",
     "output_type": "stream",
     "text": [
      "Enter the length of the list 5\n",
      "Enter the 0 element 4\n",
      "Enter the 1 element 4\n",
      "Enter the 2 element 4\n",
      "Enter the 3 element 4\n",
      "Enter the 4 element 4\n"
     ]
    },
    {
     "name": "stdout",
     "output_type": "stream",
     "text": [
      "[4]\n"
     ]
    }
   ],
   "source": [
    "#15 Implement a code to find and remove duplicates from a list while preserving the original order of elements\n",
    "\n",
    "visited=set()\n",
    "result=[]\n",
    "list1=[]\n",
    "length=int(input(\"Enter the length of the list\"))\n",
    "for i in range(length):\n",
    "    a=int(input(f\"Enter the {i} element\"))\n",
    "    list1.append(a)\n",
    "for i in list1:\n",
    "    if i not in visited:\n",
    "        result.append(i)\n",
    "        visited.add(i)\n",
    "        \n",
    "print(result)\n"
   ]
  },
  {
   "cell_type": "code",
   "execution_count": 2,
   "id": "23e94b2e-8533-4b28-a301-011ed87d7322",
   "metadata": {},
   "outputs": [
    {
     "name": "stdin",
     "output_type": "stream",
     "text": [
      "Enter the length of the list 5\n",
      "Enter the 0 element 7\n",
      "Enter the 1 element 6\n",
      "Enter the 2 element 5\n",
      "Enter the 3 element 3\n",
      "Enter the 4 element 2\n"
     ]
    },
    {
     "name": "stdout",
     "output_type": "stream",
     "text": [
      "The list is sorted in descending order.\n"
     ]
    }
   ],
   "source": [
    "#16 Create a code to check if a given list is sorted (either in ascending or descending order) or not\n",
    "\n",
    "list1=[]\n",
    "length=int(input(\"Enter the length of the list\"))\n",
    "for i in range(length):\n",
    "    a=int(input(f\"Enter the {i} element\"))\n",
    "    list1.append(a)\n",
    "if not list1:\n",
    "      print(\"An empty list is considered sorted\")\n",
    "\n",
    "ascending = all(list1[i] <= list1[i + 1] for i in range(len(list1) - 1))#returns true if all are true\n",
    "descending = all(list1[i] >= list1[i + 1] for i in range(len(list1) - 1))#returns true if all are true\n",
    "\n",
    "if ascending:\n",
    "    print(\"The list is sorted in ascending order.\")\n",
    "elif descending:\n",
    "    print(\"The list is sorted in descending order.\")\n",
    "else:\n",
    "    print(\"The list is not sorted.\")\n",
    "\n",
    "    \n",
    "    \n",
    "\n"
   ]
  },
  {
   "cell_type": "code",
   "execution_count": 2,
   "id": "4cf835fb-c52b-4207-a823-e9042d3fadca",
   "metadata": {},
   "outputs": [
    {
     "name": "stdin",
     "output_type": "stream",
     "text": [
      "Enter the length of the list 5\n",
      "Enter the 0 element 1\n",
      "Enter the 1 element 2\n",
      "Enter the 2 element 3\n",
      "Enter the 3 element 4\n",
      "Enter the 4 element 5\n",
      "Enter the length of the list 6\n",
      "Enter the 0 element 7\n",
      "Enter the 1 element 8\n",
      "Enter the 2 element 23\n",
      "Enter the 3 element 45\n",
      "Enter the 4 element 200\n",
      "Enter the 5 element 432\n"
     ]
    },
    {
     "name": "stdout",
     "output_type": "stream",
     "text": [
      "[1, 2, 3, 4, 5, 7, 8, 23, 45, 200, 432]\n"
     ]
    }
   ],
   "source": [
    "#17 Write code to merge two sorted lists into a single sorted list\n",
    "\n",
    "list1=[]\n",
    "length=int(input(\"Enter the length of the list\"))\n",
    "for i in range(length):\n",
    "    a=int(input(f\"Enter the {i} element\"))\n",
    "    list1.append(a)\n",
    "list2=[]\n",
    "length=int(input(\"Enter the length of the list\"))\n",
    "for i in range(length):\n",
    "    a=int(input(f\"Enter the {i} element\"))\n",
    "    list2.append(a)\n",
    "merged_list = []\n",
    "i, j = 0, 0\n",
    "\n",
    "# Compare elements from both lists and add the smaller one to the merged list\n",
    "while i < len(list1) and j < len(list2):\n",
    "    if list1[i] < list2[j]:\n",
    "        merged_list.append(list1[i])\n",
    "        i += 1\n",
    "    else:\n",
    "        merged_list.append(list2[j])\n",
    "        j += 1\n",
    "\n",
    "# Add any remaining elements from list1\n",
    "while i < len(list1):\n",
    "    merged_list.append(list1[i])\n",
    "    i += 1\n",
    "\n",
    "# Add any remaining elements from list2\n",
    "while j < len(list2):\n",
    "    merged_list.append(list2[j])\n",
    "    j += 1\n",
    "\n",
    "print(merged_list)#merged sorted list\n",
    "\n",
    "\n"
   ]
  },
  {
   "cell_type": "code",
   "execution_count": 5,
   "id": "fdc03b1f-4beb-4cd8-9f0f-c5daff925175",
   "metadata": {},
   "outputs": [
    {
     "name": "stdin",
     "output_type": "stream",
     "text": [
      "Enter the length of the list 5\n",
      "Enter the 0 element 4\n",
      "Enter the 1 element 5\n",
      "Enter the 2 element 7\n",
      "Enter the 3 element 8\n",
      "Enter the 4 element 3\n",
      "Enter the length of the list 4\n",
      "Enter the 0 element 5\n",
      "Enter the 1 element 7\n",
      "Enter the 2 element 2\n",
      "Enter the 3 element 1\n"
     ]
    },
    {
     "name": "stdout",
     "output_type": "stream",
     "text": [
      "[5, 7]\n"
     ]
    }
   ],
   "source": [
    "#18 Implement a code to find the intersection of two given lists\n",
    "list1=[]\n",
    "length=int(input(\"Enter the length of the list\"))\n",
    "for i in range(length):\n",
    "    a=int(input(f\"Enter the {i} element\"))\n",
    "    list1.append(a)\n",
    "list2=[]\n",
    "length=int(input(\"Enter the length of the list\"))\n",
    "for i in range(length):\n",
    "    a=int(input(f\"Enter the {i} element\"))\n",
    "    list2.append(a)\n",
    "# Using set to find the intersection\n",
    "set1 = set(list1)\n",
    "set2 = set(list2)\n",
    "intersection = set1.intersection(set2)\n",
    "    \n",
    "print(list(intersection))\n",
    "\n"
   ]
  },
  {
   "cell_type": "code",
   "execution_count": 1,
   "id": "8b1d7112-9096-4524-b8d6-b4efbdc69ff3",
   "metadata": {},
   "outputs": [
    {
     "name": "stdin",
     "output_type": "stream",
     "text": [
      "Enter the length of the list 3\n",
      "Enter the 0 element 3\n",
      "Enter the 1 element 4\n",
      "Enter the 2 element 5\n",
      "Enter the length of the list 3\n",
      "Enter the 0 element 34\n",
      "Enter the 1 element 6\n",
      "Enter the 2 element 7\n"
     ]
    },
    {
     "name": "stdout",
     "output_type": "stream",
     "text": [
      "[34, 3, 4, 5, 6, 7]\n"
     ]
    }
   ],
   "source": [
    "#19 Create a code to find the union of two lists without duplicates\n",
    "\n",
    "list1=[]\n",
    "length=int(input(\"Enter the length of the list\"))\n",
    "for i in range(length):\n",
    "    a=int(input(f\"Enter the {i} element\"))\n",
    "    list1.append(a)\n",
    "list2=[]\n",
    "length=int(input(\"Enter the length of the list\"))\n",
    "for i in range(length):\n",
    "    a=int(input(f\"Enter the {i} element\"))\n",
    "    list2.append(a)\n",
    "# Using set to find the union and remove duplicates\n",
    "union_set = set(list1).union(set(list2))\n",
    "print(list(union_set))\n"
   ]
  },
  {
   "cell_type": "code",
   "execution_count": 5,
   "id": "377350c5-dbdf-42c5-9001-3765e7a6b5a6",
   "metadata": {},
   "outputs": [
    {
     "name": "stdin",
     "output_type": "stream",
     "text": [
      "Enter the length of the list 4\n",
      "Enter the 0 element 3\n",
      "Enter the 1 element 4\n",
      "Enter the 2 element 5\n",
      "Enter the 3 element 6\n"
     ]
    },
    {
     "name": "stdout",
     "output_type": "stream",
     "text": [
      "[5, 4, 3, 6]\n"
     ]
    }
   ],
   "source": [
    "#20 Write a code to shuffle a given list randomly without using any built-in shuffle functions\n",
    "\n",
    "import random as rm\n",
    "list1=[]\n",
    "length=int(input(\"Enter the length of the list\"))\n",
    "for i in range(length):\n",
    "    a=int(input(f\"Enter the {i} element\"))\n",
    "    list1.append(a)\n",
    "n = len(list1)\n",
    "# Looping through the list from the last element to the first\n",
    "for i in range(n - 1, 0, -1):\n",
    "   # Generating a random index from 0 to i\n",
    "   j = rm.randint(0, i)\n",
    "   # Swapping the elements at indices i and j\n",
    "   list1[i], list1[j] = list1[j], list1[i]\n",
    "print(list1)\n",
    "\n",
    "\n",
    "\n"
   ]
  },
  {
   "cell_type": "code",
   "execution_count": 19,
   "id": "3fe48df0-99ab-4028-8852-633963a6df66",
   "metadata": {},
   "outputs": [
    {
     "name": "stdout",
     "output_type": "stream",
     "text": [
      "(5, 7)\n"
     ]
    }
   ],
   "source": [
    "#21 Write a code that takes two tuples as input and returns a new tuple containing elements that are common \n",
    "#to both input tuples\n",
    "\n",
    "tuple1=(2,4,5,67,7)\n",
    "tuple2=(3,5,6,7,8,9)\n",
    "intersection_set=set(tuple1).intersection(tuple2)\n",
    "print(tuple(intersection_set))"
   ]
  },
  {
   "cell_type": "code",
   "execution_count": 11,
   "id": "0dc4cbc1-34fd-4acd-a01a-6069f6a1d232",
   "metadata": {},
   "outputs": [
    {
     "name": "stdin",
     "output_type": "stream",
     "text": [
      "Enter the first set separated by commas 2,4,5,67,8\n",
      "Enter the second set separated by commas 6,8,9,2,4,9\n"
     ]
    },
    {
     "name": "stdout",
     "output_type": "stream",
     "text": [
      "Intersection of the two sets: {8, 2, 4}\n"
     ]
    }
   ],
   "source": [
    "#22 Create a code that prompts the user to enter two sets of integers seperated by\n",
    "#commas Then print the intersection of these two sets\n",
    "\n",
    "input_str1 = input(\"Enter the first set separated by commas\")\n",
    "set1 = set(map(int, input_str1.split(',')))\n",
    "input_str2 = input(\"Enter the second set separated by commas\")\n",
    "set2 = set(map(int, input_str2.split(',')))\n",
    "# the intersection of the two sets\n",
    "intersection = set1.intersection(set2)\n",
    "print(\"Intersection of the two sets:\", intersection)\n",
    "\n"
   ]
  },
  {
   "cell_type": "code",
   "execution_count": 15,
   "id": "cb876923-04f4-4ca3-8d22-24bc5a21d096",
   "metadata": {},
   "outputs": [
    {
     "name": "stdin",
     "output_type": "stream",
     "text": [
      "Enter the first tuple separated by commas and enclosed by '()' (2,3,4,5)\n",
      "Enter the second tuple separated by commas and enclosed by '()' (3,4,6,7,8)\n"
     ]
    },
    {
     "name": "stdout",
     "output_type": "stream",
     "text": [
      "new tuple: (2, 3, 4, 5, 6, 7, 8)\n"
     ]
    }
   ],
   "source": [
    "#23 Write  a code to concatenate two tuples . The function should take two tuples as input and return a new\n",
    "#tuple containing elements from both input tuples.\n",
    "\n",
    "input_str1 = input(\"Enter the first tuple separated by commas and enclosed by \\'()\\'\")\n",
    "tuple1 = tuple(map(int, input_str1.strip(\"()\").split(',')))\n",
    "input_str2 = input(\"Enter the second tuple separated by commas and enclosed by \\'()\\'\")\n",
    "tuple2 = tuple(map(int, input_str2.strip(\"()\").split(',')))\n",
    "# the union of the two sets\n",
    "union_s = set(tuple1).union(set(tuple2))\n",
    "print(\"new tuple:\", tuple(union_s))\n"
   ]
  },
  {
   "cell_type": "code",
   "execution_count": 18,
   "id": "70383977-51cf-4b0b-b7e3-2215040add8c",
   "metadata": {},
   "outputs": [
    {
     "name": "stdin",
     "output_type": "stream",
     "text": [
      "Enter the first set of strings apple,mango,banana\n",
      "Enter the second set of strings mango,orange,pineapple\n"
     ]
    },
    {
     "name": "stdout",
     "output_type": "stream",
     "text": [
      "{'apple', 'banana'}\n"
     ]
    }
   ],
   "source": [
    "#24 Develop a code that prompts the user to input two sets of strings. Then, print the elements that are \n",
    "#present in the first set but not in the second set\n",
    "\n",
    "input_str1=input(\"Enter the first set of strings\")\n",
    "set1=set(map(str,input_str1.split(',')))\n",
    "input_str2=input(\"Enter the second set of strings\")\n",
    "set2=set(map(str,input_str2.split(',')))\n",
    "\n",
    "difference_set=set1.difference(set2)\n",
    "print(difference_set)\n",
    "\n",
    "\n",
    "\n",
    "\n"
   ]
  },
  {
   "cell_type": "code",
   "execution_count": 8,
   "id": "5a727dc3-8dc7-4e9e-a21b-ce63faa99c7b",
   "metadata": {},
   "outputs": [
    {
     "name": "stdin",
     "output_type": "stream",
     "text": [
      "Enter the tuple (3,4,5,6,7,8)\n",
      "Enter the first integer 3\n",
      "Enter the first integer 5\n"
     ]
    },
    {
     "name": "stdout",
     "output_type": "stream",
     "text": [
      "(6, 7)\n"
     ]
    }
   ],
   "source": [
    "#25 Create a code that takes a tuple and two integers as input. The function should return a new tuple \n",
    "#containing elements from the original tuple within the specified range of indices\n",
    "\n",
    "input_str=input(\"Enter the tuple\")\n",
    "tuple1=tuple(map(int,input_str.strip(\"()\").split(\",\")))\n",
    "int1=int(input(\"Enter the first integer\"))\n",
    "int2=int(input(\"Enter the first integer\"))\n",
    "def fun(original_tuple, start_index, end_index):\n",
    "    \n",
    "    if start_index < 0 or end_index > len(original_tuple) or start_index > end_index:\n",
    "        return \"Invalid indices\"\n",
    "    return original_tuple[start_index:end_index]\n",
    "print(fun(tuple1,int1,int2))\n",
    "\n",
    "\n",
    "\n",
    "        \n",
    "        \n",
    "\n",
    "\n",
    "\n",
    "\n"
   ]
  },
  {
   "cell_type": "code",
   "execution_count": 11,
   "id": "021f793f-7c30-4416-91ca-8b0f38c494c0",
   "metadata": {},
   "outputs": [
    {
     "name": "stdin",
     "output_type": "stream",
     "text": [
      "Enter th first set {a,b,c,d,e,f}\n",
      "Enter th second set {g,b,e,f,d,t}\n"
     ]
    },
    {
     "name": "stdout",
     "output_type": "stream",
     "text": [
      "{'b', 'a', 'e', 'c', 't', 'f', 'd', 'g'}\n"
     ]
    }
   ],
   "source": [
    "#26 Write a code that prompts the user to input two sets of characters. Then, print the union \n",
    "#of these two sets\n",
    "\n",
    "input1=input(\"Enter th first set\")\n",
    "set1=set(map(str,input1.strip(\"{}\").split(\",\")))\n",
    "input2=input(\"Enter th second set\")\n",
    "set2=set(map(str,input2.strip(\"{}\").split(\",\")))\n",
    "union_set=set1.union(set2)\n",
    "print(union_set)\n",
    "\n",
    "\n",
    "\n"
   ]
  },
  {
   "cell_type": "code",
   "execution_count": 12,
   "id": "1a66c110-78ef-40c5-8af2-995a0bfe04bf",
   "metadata": {},
   "outputs": [
    {
     "name": "stdin",
     "output_type": "stream",
     "text": [
      "Enter the tuple (2,3,4,5,68,800)\n"
     ]
    },
    {
     "name": "stdout",
     "output_type": "stream",
     "text": [
      "max value is 800 and min value is 2\n"
     ]
    }
   ],
   "source": [
    "#27  Develop a code that takes a tuple of integers as input. The function should return the maximum and \n",
    "#minimum values from the tuple using tuple unpacking\n",
    "\n",
    "input_str=input(\"Enter the tuple\")\n",
    "tuple1=tuple(map(int,input_str.strip(\"()\").split(\",\")))\n",
    "print(f\"max value is {max(tuple1)} and min value is {min(tuple1)}\")\n",
    "\n",
    "\n"
   ]
  },
  {
   "cell_type": "code",
   "execution_count": 15,
   "id": "47a85d6e-9858-4338-9438-24eaa7b278a8",
   "metadata": {},
   "outputs": [
    {
     "name": "stdin",
     "output_type": "stream",
     "text": [
      "Enter th first set {1,2,4,5,6}\n",
      "Enter th second set {2,4,7,6}\n"
     ]
    },
    {
     "name": "stdout",
     "output_type": "stream",
     "text": [
      "union is {1, 2, 4, 5, 6, 7}\n",
      "intersection is {2, 4, 6}\n",
      "difference of sets is {1, 5}\n"
     ]
    }
   ],
   "source": [
    "#28  Create a code that defines two sets of integers. Then, print the union, intersection, \n",
    "#and difference of these two sets\n",
    "\n",
    "input1=input(\"Enter th first set\")\n",
    "set1=set(map(int,input1.strip(\"{}\").split(\",\")))\n",
    "input2=input(\"Enter th second set\")\n",
    "set2=set(map(int,input2.strip(\"{}\").split(\",\")))\n",
    "\n",
    "print(f\"union is {set1.union(set2)}\\nintersection is {set1.intersection(set2)}\\ndifference of sets is {set1.difference(set2)}\")\n",
    "\n"
   ]
  },
  {
   "cell_type": "code",
   "execution_count": 18,
   "id": "a705de73-0306-47f7-bd5a-882def02aee9",
   "metadata": {},
   "outputs": [
    {
     "name": "stdin",
     "output_type": "stream",
     "text": [
      "Enter the tuple (2,4,g,h,h,m,m,m)\n",
      "Enter the element m\n"
     ]
    },
    {
     "name": "stdout",
     "output_type": "stream",
     "text": [
      "3\n"
     ]
    }
   ],
   "source": [
    "#29  Write a code that takes a tuple and an element as input. The function should return the count of \n",
    "#occurrences of the given element in the tuple\n",
    "\n",
    "input_str=input(\"Enter the tuple\")\n",
    "tuple1=tuple(map(str,input_str.strip(\"()\").split(\",\")))\n",
    "element=input(\"Enter the element\")\n",
    "print(tuple1.count(element))\n",
    "\n",
    "\n",
    "\n",
    "\n"
   ]
  },
  {
   "cell_type": "code",
   "execution_count": 19,
   "id": "cffd04d4-d8bb-40d4-b5d8-a9345d3b191c",
   "metadata": {},
   "outputs": [
    {
     "name": "stdin",
     "output_type": "stream",
     "text": [
      "Enter th first set {andy,maddy,sandy}\n",
      "Enter th second set {english,mango,andy}\n"
     ]
    },
    {
     "name": "stdout",
     "output_type": "stream",
     "text": [
      "symmetric difference is {'sandy', 'mango', 'maddy', 'english'}\n"
     ]
    }
   ],
   "source": [
    "#30  Develop a code that prompts the user to input two sets of strings. Then, print the symmetric difference of \n",
    "#these two sets\n",
    "\n",
    "input1=input(\"Enter th first set\")\n",
    "set1=set(map(str,input1.strip(\"{}\").split(\",\")))\n",
    "input2=input(\"Enter th second set\")\n",
    "set2=set(map(str,input2.strip(\"{}\").split(\",\")))\n",
    "\n",
    "print(f\"symmetric difference is {set1.symmetric_difference(set2)}\")\n",
    "\n"
   ]
  },
  {
   "cell_type": "code",
   "execution_count": 6,
   "id": "bfea6e4f-67f4-480f-afac-e63facbcbd2e",
   "metadata": {},
   "outputs": [
    {
     "name": "stdin",
     "output_type": "stream",
     "text": [
      "Enter the list [mango,mango,mango,apple,banana]\n"
     ]
    },
    {
     "name": "stdout",
     "output_type": "stream",
     "text": [
      "{'mango': 3, 'apple': 1, 'banana': 1}\n"
     ]
    }
   ],
   "source": [
    "#31 Write a code that takes a list of words as input and returns a dictionary where the keys are unique words \n",
    "#and the values are the frequencies of those words in the input list\n",
    "\n",
    "input1=input(\"Enter the list\")\n",
    "list1=list(map(str,input1.strip(\"[]\").split(\",\")))\n",
    "dict1={}\n",
    "for i in list1:\n",
    "    dict1[i]=list1.count(i)\n",
    "print(dict1)\n",
    "    "
   ]
  },
  {
   "cell_type": "code",
   "execution_count": 16,
   "id": "3d53af1a-530b-4d7c-89d7-fa84cd12d1b0",
   "metadata": {},
   "outputs": [
    {
     "name": "stdout",
     "output_type": "stream",
     "text": [
      "{'b': 5, 'c': 7, 'd': 5, 'a': 1}\n"
     ]
    }
   ],
   "source": [
    "#32 Write a code that takes two dictionaries as input and merges them into a single dictionary. If there are \n",
    "# common keys, the values should be added together\n",
    "\n",
    "dict1={'a': 1, 'b': 2, 'c': 3}\n",
    "dict2={'b': 3, 'c': 4, 'd': 5}\n",
    "merged_dict=dict2.copy()\n",
    "for key in dict1:\n",
    "    if key in merged_dict:\n",
    "        merged_dict[key] = merged_dict[key] + dict1[key]\n",
    "    else:\n",
    "        merged_dict[key] = dict1[key]\n",
    "print(merged_dict)\n",
    "\n",
    "\n",
    "\n",
    "\n"
   ]
  },
  {
   "cell_type": "code",
   "execution_count": 1,
   "id": "ca8183b3-77bd-4273-ab4f-167751604c0c",
   "metadata": {},
   "outputs": [
    {
     "name": "stdout",
     "output_type": "stream",
     "text": [
      "4 5 {'a': 3, 'b': 5} None\n",
      "3\n"
     ]
    }
   ],
   "source": [
    "#33 Write a code to access a value in a nested dictionary. The function should take the \n",
    "#dictionary and a list of keys as input, and return the corresponding value. If any of the keys do \n",
    "#not exist in the dictionary, the function should return None\n",
    "\n",
    "dict1={'a':4,'b':5,'c':{'a':3,'b':5}}\n",
    "keys=['a','b','c','d']\n",
    "for key in keys:\n",
    "    if key in dict1:\n",
    "        print(dict1[key],end=\" \")\n",
    "        \n",
    "    else:\n",
    "        print(\"None\")\n",
    "#to access the nested dictionary\n",
    "print(dict1['c']['a'])\n"
   ]
  },
  {
   "cell_type": "code",
   "execution_count": 4,
   "id": "eee2afed-21e2-41f9-9f9f-38c5db5aa004",
   "metadata": {},
   "outputs": [
    {
     "name": "stdin",
     "output_type": "stream",
     "text": [
      "Enter the order asc or dsc: dsc\n"
     ]
    },
    {
     "name": "stdout",
     "output_type": "stream",
     "text": [
      "[(89, 'b'), (45, 'a'), (2, 'c')]\n"
     ]
    }
   ],
   "source": [
    "#34 Write a code that takes a dictionary as input and returns a sorted version of it based on the values. You \n",
    "#can choose whether to sort in ascending or descending order\n",
    "\n",
    "dict1={'a': 45, 'b': 89, 'c': 2}\n",
    "order=input(\"Enter the order asc or dsc:\")\n",
    "if order==\"asc\":\n",
    "    dict2=sorted([(value,key) for (key, value) in dict1.items()])\n",
    "    print(dict2)\n",
    "elif order==\"dsc\":\n",
    "    dict2=sorted([(value, key) for (key, value) in dict1.items()],reverse=True)\n",
    "    print(dict2)\n",
    "\n",
    "    \n"
   ]
  },
  {
   "cell_type": "code",
   "execution_count": 11,
   "id": "bf73a868-c875-4799-b0be-738590d883dd",
   "metadata": {},
   "outputs": [
    {
     "name": "stdout",
     "output_type": "stream",
     "text": [
      "Original dictionary is : \n",
      "{'A': 67, 'B': 23, 'C': 45, 'E': 12, 'F': 69, 'G': 67, 'H': 23}\n",
      "{67: ['A', 'G'], 23: ['B', 'H'], 45: ['C'], 12: ['E'], 69: ['F']}\n"
     ]
    }
   ],
   "source": [
    "#35 Write a code that inverts a dictionary, swapping keys and values. Ensure that the inverted dictionary \n",
    "#correctly handles cases where multiple keys have the same value by storing the keys as a list in the \n",
    "#inverted dictionary.\n",
    "\n",
    "old_dict = {'A': 67, 'B': 23, 'C': 45, 'E': 12, 'F': 69, 'G': 67, 'H': 23}\n",
    "print (\"Original dictionary is : \")\n",
    "print(old_dict) \n",
    "new_dict = {}\n",
    "for key, value in old_dict.items():\n",
    "   if value in new_dict:\n",
    "       new_dict[value].append(key)\n",
    "   else:\n",
    "       new_dict[value]=[key]\n",
    "print(new_dict)\n",
    "\n"
   ]
  },
  {
   "cell_type": "code",
   "execution_count": null,
   "id": "c59aecfd-d1fd-4af4-849a-86de6cb779a3",
   "metadata": {},
   "outputs": [],
   "source": []
  }
 ],
 "metadata": {
  "kernelspec": {
   "display_name": "Python 3 (ipykernel)",
   "language": "python",
   "name": "python3"
  },
  "language_info": {
   "codemirror_mode": {
    "name": "ipython",
    "version": 3
   },
   "file_extension": ".py",
   "mimetype": "text/x-python",
   "name": "python",
   "nbconvert_exporter": "python",
   "pygments_lexer": "ipython3",
   "version": "3.10.8"
  }
 },
 "nbformat": 4,
 "nbformat_minor": 5
}
